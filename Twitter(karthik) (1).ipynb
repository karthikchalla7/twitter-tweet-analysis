{
  "nbformat": 4,
  "nbformat_minor": 0,
  "metadata": {
    "colab": {
      "provenance": [],
      "collapsed_sections": []
    },
    "kernelspec": {
      "name": "python3",
      "display_name": "Python 3"
    },
    "language_info": {
      "name": "python"
    }
  },
  "cells": [
    {
      "cell_type": "code",
      "execution_count": null,
      "metadata": {
        "colab": {
          "base_uri": "https://localhost:8080/"
        },
        "id": "k-T_NYECcEL1",
        "outputId": "e10ca917-3682-462b-fd52-8f9ec7c70f42"
      },
      "outputs": [
        {
          "output_type": "stream",
          "name": "stdout",
          "text": [
            "pip 21.1.3 from /usr/local/lib/python3.7/dist-packages/pip (python 3.7)\n"
          ]
        }
      ],
      "source": [
        "!pip --version\n"
      ]
    },
    {
      "cell_type": "code",
      "source": [
        "!pip install tweepy"
      ],
      "metadata": {
        "colab": {
          "base_uri": "https://localhost:8080/"
        },
        "id": "mO9p-WQdcImx",
        "outputId": "1915f02f-e0cc-41d5-9859-e70489a2ec9a"
      },
      "execution_count": null,
      "outputs": [
        {
          "output_type": "stream",
          "name": "stdout",
          "text": [
            "Requirement already satisfied: tweepy in /usr/local/lib/python3.7/dist-packages (3.10.0)\n",
            "Requirement already satisfied: six>=1.10.0 in /usr/local/lib/python3.7/dist-packages (from tweepy) (1.15.0)\n",
            "Requirement already satisfied: requests-oauthlib>=0.7.0 in /usr/local/lib/python3.7/dist-packages (from tweepy) (1.3.1)\n",
            "Requirement already satisfied: requests[socks]>=2.11.1 in /usr/local/lib/python3.7/dist-packages (from tweepy) (2.23.0)\n",
            "Requirement already satisfied: oauthlib>=3.0.0 in /usr/local/lib/python3.7/dist-packages (from requests-oauthlib>=0.7.0->tweepy) (3.2.0)\n",
            "Requirement already satisfied: urllib3!=1.25.0,!=1.25.1,<1.26,>=1.21.1 in /usr/local/lib/python3.7/dist-packages (from requests[socks]>=2.11.1->tweepy) (1.24.3)\n",
            "Requirement already satisfied: idna<3,>=2.5 in /usr/local/lib/python3.7/dist-packages (from requests[socks]>=2.11.1->tweepy) (2.10)\n",
            "Requirement already satisfied: chardet<4,>=3.0.2 in /usr/local/lib/python3.7/dist-packages (from requests[socks]>=2.11.1->tweepy) (3.0.4)\n",
            "Requirement already satisfied: certifi>=2017.4.17 in /usr/local/lib/python3.7/dist-packages (from requests[socks]>=2.11.1->tweepy) (2021.10.8)\n",
            "Requirement already satisfied: PySocks!=1.5.7,>=1.5.6 in /usr/local/lib/python3.7/dist-packages (from requests[socks]>=2.11.1->tweepy) (1.7.1)\n"
          ]
        }
      ]
    },
    {
      "cell_type": "code",
      "source": [
        "import tweepy\n",
        "import pandas as pd"
      ],
      "metadata": {
        "id": "i8vOv5z4cIpP"
      },
      "execution_count": null,
      "outputs": []
    },
    {
      "cell_type": "code",
      "source": [
        "consumer_key = \"EOxglEySgfvQkWGJ1TrIijMvp\"\n",
        "consumer_secret = \"4EPCLRhC06zKgIwwsLuhpA7266u0RDaqainJTG85borjuGM0ZB\"\n",
        "access_token = \"1338704053589614592-SSfG3pjVszHnGpIB2MKA7IXWn8d9rH\"\n",
        "access_token_secret = \"ydTqOlHFXrfpdTdwmdMpVe2yBSI9wsonMehWq94gSfYFT\""
      ],
      "metadata": {
        "id": "m0oFIjzzcIrl"
      },
      "execution_count": null,
      "outputs": []
    },
    {
      "cell_type": "code",
      "source": [
        "auth = tweepy.OAuthHandler(consumer_key,consumer_secret)\n",
        "auth.set_access_token(access_token,access_token_secret)\n",
        "api = tweepy.API(auth)"
      ],
      "metadata": {
        "id": "Ijs-7hZbcIwp"
      },
      "execution_count": null,
      "outputs": []
    },
    {
      "cell_type": "code",
      "source": [
        "cursor = tweepy.Cursor(api.user_timeline,id=\"realDonaldTrump\",tweet_mode=\"extended\").items(1)"
      ],
      "metadata": {
        "id": "KQRUot11ct0Q"
      },
      "execution_count": null,
      "outputs": []
    },
    {
      "cell_type": "code",
      "source": [
        "print(cursor)"
      ],
      "metadata": {
        "colab": {
          "base_uri": "https://localhost:8080/"
        },
        "id": "TpjLrqhtct28",
        "outputId": "2c5193e4-d2a2-45f1-9828-7d0795390be1"
      },
      "execution_count": null,
      "outputs": [
        {
          "output_type": "stream",
          "name": "stdout",
          "text": [
            "<tweepy.cursor.ItemIterator object at 0x7f263ef0c610>\n"
          ]
        }
      ]
    },
    {
      "cell_type": "code",
      "source": [
        "cursor1 = tweepy.Cursor(api.search,q=\"Bitcoin\",tweet_mode=\"extended\").items(1)"
      ],
      "metadata": {
        "id": "ByVEvJQCct5k"
      },
      "execution_count": null,
      "outputs": []
    },
    {
      "cell_type": "code",
      "source": [
        "number_of_tweets = 200\n",
        "tweets = []\n",
        "likes = []\n",
        "time = []\n",
        "\n",
        "for i in tweepy.Cursor(api.user_timeline,id=\"elonmusk\",tweet_mode=\"extended\").items(number_of_tweets):\n",
        "  tweets.append(i.full_text)\n",
        "  likes.append(i.favorite_count)\n",
        "  time.append(i.created_at)\n",
        "df = pd.DataFrame({'tweets':tweets,'likes':likes,'time':time})"
      ],
      "metadata": {
        "id": "tas-edQWc8lo"
      },
      "execution_count": null,
      "outputs": []
    },
    {
      "cell_type": "code",
      "source": [
        "df"
      ],
      "metadata": {
        "id": "72dO1vLBct8B",
        "colab": {
          "base_uri": "https://localhost:8080/",
          "height": 676
        },
        "outputId": "613fa03d-b487-4209-8230-1e59c4096dd0"
      },
      "execution_count": null,
      "outputs": [
        {
          "output_type": "execute_result",
          "data": {
            "text/plain": [
              "                                               tweets   likes  \\\n",
              "0                              @sweatystartup Exactly    6153   \n",
              "1   Convert Twitter SF HQ to homeless shelter sinc...   57528   \n",
              "2   @PPathole Price should probably be ~$2/month, ...    4202   \n",
              "3   And no ads. The power of corporations to dicta...   44556   \n",
              "4   @PPathole It should go away or scammers will g...    5818   \n",
              "5   But should be different from “public figure” o...   29682   \n",
              "6   @GonzaAbalos Maybe even an option to pay in Doge?   18057   \n",
              "7   @GonzaAbalos Yes, should be proportionate to a...   18391   \n",
              "8   Blue already has a modifiable 20 second time t...   41327   \n",
              "9   @BLKMDL3 Exactly. It would massively expand th...   17349   \n",
              "10  Everyone who signs up for Twitter Blue (ie pay...  143292   \n",
              "11  @michaeljburry You will get it back, even thou...   42104   \n",
              "12               Weather is fake. I seen Truman Show!   50157   \n",
              "13  @teslaownersSV The resemblance is uncanny http...    7040   \n",
              "14  @LPofMN As the saying goes, when the governmen...   26698   \n",
              "15  @siddarthpaim Fake news purveyors would have h...    5275   \n",
              "16  @universal_sci All of Earth is a tiny dust mot...   20516   \n",
              "17                          @UKSAguy @RubinReport Yes    1394   \n",
              "18                      @JohnnaCrider1 .@Beeple is 🔥🔥    6549   \n",
              "19                    69.420% of statistics are false  353118   \n",
              "\n",
              "                  time  \n",
              "0  2022-04-10 02:02:31  \n",
              "1  2022-04-10 01:30:10  \n",
              "2  2022-04-10 01:21:42  \n",
              "3  2022-04-10 01:14:12  \n",
              "4  2022-04-10 00:58:28  \n",
              "5  2022-04-10 00:56:10  \n",
              "6  2022-04-10 00:45:10  \n",
              "7  2022-04-10 00:31:07  \n",
              "8  2022-04-10 00:24:07  \n",
              "9  2022-04-10 00:22:08  \n",
              "10 2022-04-10 00:10:52  \n",
              "11 2022-04-10 00:08:19  \n",
              "12 2022-04-10 00:03:19  \n",
              "13 2022-04-09 21:57:10  \n",
              "14 2022-04-09 21:08:21  \n",
              "15 2022-04-09 20:51:01  \n",
              "16 2022-04-09 20:48:07  \n",
              "17 2022-04-09 20:39:03  \n",
              "18 2022-04-09 20:18:17  \n",
              "19 2022-04-09 20:14:20  "
            ],
            "text/html": [
              "\n",
              "  <div id=\"df-67717ac3-32ca-424a-b789-e5d85b95bbf9\">\n",
              "    <div class=\"colab-df-container\">\n",
              "      <div>\n",
              "<style scoped>\n",
              "    .dataframe tbody tr th:only-of-type {\n",
              "        vertical-align: middle;\n",
              "    }\n",
              "\n",
              "    .dataframe tbody tr th {\n",
              "        vertical-align: top;\n",
              "    }\n",
              "\n",
              "    .dataframe thead th {\n",
              "        text-align: right;\n",
              "    }\n",
              "</style>\n",
              "<table border=\"1\" class=\"dataframe\">\n",
              "  <thead>\n",
              "    <tr style=\"text-align: right;\">\n",
              "      <th></th>\n",
              "      <th>tweets</th>\n",
              "      <th>likes</th>\n",
              "      <th>time</th>\n",
              "    </tr>\n",
              "  </thead>\n",
              "  <tbody>\n",
              "    <tr>\n",
              "      <th>0</th>\n",
              "      <td>@sweatystartup Exactly</td>\n",
              "      <td>6153</td>\n",
              "      <td>2022-04-10 02:02:31</td>\n",
              "    </tr>\n",
              "    <tr>\n",
              "      <th>1</th>\n",
              "      <td>Convert Twitter SF HQ to homeless shelter sinc...</td>\n",
              "      <td>57528</td>\n",
              "      <td>2022-04-10 01:30:10</td>\n",
              "    </tr>\n",
              "    <tr>\n",
              "      <th>2</th>\n",
              "      <td>@PPathole Price should probably be ~$2/month, ...</td>\n",
              "      <td>4202</td>\n",
              "      <td>2022-04-10 01:21:42</td>\n",
              "    </tr>\n",
              "    <tr>\n",
              "      <th>3</th>\n",
              "      <td>And no ads. The power of corporations to dicta...</td>\n",
              "      <td>44556</td>\n",
              "      <td>2022-04-10 01:14:12</td>\n",
              "    </tr>\n",
              "    <tr>\n",
              "      <th>4</th>\n",
              "      <td>@PPathole It should go away or scammers will g...</td>\n",
              "      <td>5818</td>\n",
              "      <td>2022-04-10 00:58:28</td>\n",
              "    </tr>\n",
              "    <tr>\n",
              "      <th>5</th>\n",
              "      <td>But should be different from “public figure” o...</td>\n",
              "      <td>29682</td>\n",
              "      <td>2022-04-10 00:56:10</td>\n",
              "    </tr>\n",
              "    <tr>\n",
              "      <th>6</th>\n",
              "      <td>@GonzaAbalos Maybe even an option to pay in Doge?</td>\n",
              "      <td>18057</td>\n",
              "      <td>2022-04-10 00:45:10</td>\n",
              "    </tr>\n",
              "    <tr>\n",
              "      <th>7</th>\n",
              "      <td>@GonzaAbalos Yes, should be proportionate to a...</td>\n",
              "      <td>18391</td>\n",
              "      <td>2022-04-10 00:31:07</td>\n",
              "    </tr>\n",
              "    <tr>\n",
              "      <th>8</th>\n",
              "      <td>Blue already has a modifiable 20 second time t...</td>\n",
              "      <td>41327</td>\n",
              "      <td>2022-04-10 00:24:07</td>\n",
              "    </tr>\n",
              "    <tr>\n",
              "      <th>9</th>\n",
              "      <td>@BLKMDL3 Exactly. It would massively expand th...</td>\n",
              "      <td>17349</td>\n",
              "      <td>2022-04-10 00:22:08</td>\n",
              "    </tr>\n",
              "    <tr>\n",
              "      <th>10</th>\n",
              "      <td>Everyone who signs up for Twitter Blue (ie pay...</td>\n",
              "      <td>143292</td>\n",
              "      <td>2022-04-10 00:10:52</td>\n",
              "    </tr>\n",
              "    <tr>\n",
              "      <th>11</th>\n",
              "      <td>@michaeljburry You will get it back, even thou...</td>\n",
              "      <td>42104</td>\n",
              "      <td>2022-04-10 00:08:19</td>\n",
              "    </tr>\n",
              "    <tr>\n",
              "      <th>12</th>\n",
              "      <td>Weather is fake. I seen Truman Show!</td>\n",
              "      <td>50157</td>\n",
              "      <td>2022-04-10 00:03:19</td>\n",
              "    </tr>\n",
              "    <tr>\n",
              "      <th>13</th>\n",
              "      <td>@teslaownersSV The resemblance is uncanny http...</td>\n",
              "      <td>7040</td>\n",
              "      <td>2022-04-09 21:57:10</td>\n",
              "    </tr>\n",
              "    <tr>\n",
              "      <th>14</th>\n",
              "      <td>@LPofMN As the saying goes, when the governmen...</td>\n",
              "      <td>26698</td>\n",
              "      <td>2022-04-09 21:08:21</td>\n",
              "    </tr>\n",
              "    <tr>\n",
              "      <th>15</th>\n",
              "      <td>@siddarthpaim Fake news purveyors would have h...</td>\n",
              "      <td>5275</td>\n",
              "      <td>2022-04-09 20:51:01</td>\n",
              "    </tr>\n",
              "    <tr>\n",
              "      <th>16</th>\n",
              "      <td>@universal_sci All of Earth is a tiny dust mot...</td>\n",
              "      <td>20516</td>\n",
              "      <td>2022-04-09 20:48:07</td>\n",
              "    </tr>\n",
              "    <tr>\n",
              "      <th>17</th>\n",
              "      <td>@UKSAguy @RubinReport Yes</td>\n",
              "      <td>1394</td>\n",
              "      <td>2022-04-09 20:39:03</td>\n",
              "    </tr>\n",
              "    <tr>\n",
              "      <th>18</th>\n",
              "      <td>@JohnnaCrider1 .@Beeple is 🔥🔥</td>\n",
              "      <td>6549</td>\n",
              "      <td>2022-04-09 20:18:17</td>\n",
              "    </tr>\n",
              "    <tr>\n",
              "      <th>19</th>\n",
              "      <td>69.420% of statistics are false</td>\n",
              "      <td>353118</td>\n",
              "      <td>2022-04-09 20:14:20</td>\n",
              "    </tr>\n",
              "  </tbody>\n",
              "</table>\n",
              "</div>\n",
              "      <button class=\"colab-df-convert\" onclick=\"convertToInteractive('df-67717ac3-32ca-424a-b789-e5d85b95bbf9')\"\n",
              "              title=\"Convert this dataframe to an interactive table.\"\n",
              "              style=\"display:none;\">\n",
              "        \n",
              "  <svg xmlns=\"http://www.w3.org/2000/svg\" height=\"24px\"viewBox=\"0 0 24 24\"\n",
              "       width=\"24px\">\n",
              "    <path d=\"M0 0h24v24H0V0z\" fill=\"none\"/>\n",
              "    <path d=\"M18.56 5.44l.94 2.06.94-2.06 2.06-.94-2.06-.94-.94-2.06-.94 2.06-2.06.94zm-11 1L8.5 8.5l.94-2.06 2.06-.94-2.06-.94L8.5 2.5l-.94 2.06-2.06.94zm10 10l.94 2.06.94-2.06 2.06-.94-2.06-.94-.94-2.06-.94 2.06-2.06.94z\"/><path d=\"M17.41 7.96l-1.37-1.37c-.4-.4-.92-.59-1.43-.59-.52 0-1.04.2-1.43.59L10.3 9.45l-7.72 7.72c-.78.78-.78 2.05 0 2.83L4 21.41c.39.39.9.59 1.41.59.51 0 1.02-.2 1.41-.59l7.78-7.78 2.81-2.81c.8-.78.8-2.07 0-2.86zM5.41 20L4 18.59l7.72-7.72 1.47 1.35L5.41 20z\"/>\n",
              "  </svg>\n",
              "      </button>\n",
              "      \n",
              "  <style>\n",
              "    .colab-df-container {\n",
              "      display:flex;\n",
              "      flex-wrap:wrap;\n",
              "      gap: 12px;\n",
              "    }\n",
              "\n",
              "    .colab-df-convert {\n",
              "      background-color: #E8F0FE;\n",
              "      border: none;\n",
              "      border-radius: 50%;\n",
              "      cursor: pointer;\n",
              "      display: none;\n",
              "      fill: #1967D2;\n",
              "      height: 32px;\n",
              "      padding: 0 0 0 0;\n",
              "      width: 32px;\n",
              "    }\n",
              "\n",
              "    .colab-df-convert:hover {\n",
              "      background-color: #E2EBFA;\n",
              "      box-shadow: 0px 1px 2px rgba(60, 64, 67, 0.3), 0px 1px 3px 1px rgba(60, 64, 67, 0.15);\n",
              "      fill: #174EA6;\n",
              "    }\n",
              "\n",
              "    [theme=dark] .colab-df-convert {\n",
              "      background-color: #3B4455;\n",
              "      fill: #D2E3FC;\n",
              "    }\n",
              "\n",
              "    [theme=dark] .colab-df-convert:hover {\n",
              "      background-color: #434B5C;\n",
              "      box-shadow: 0px 1px 3px 1px rgba(0, 0, 0, 0.15);\n",
              "      filter: drop-shadow(0px 1px 2px rgba(0, 0, 0, 0.3));\n",
              "      fill: #FFFFFF;\n",
              "    }\n",
              "  </style>\n",
              "\n",
              "      <script>\n",
              "        const buttonEl =\n",
              "          document.querySelector('#df-67717ac3-32ca-424a-b789-e5d85b95bbf9 button.colab-df-convert');\n",
              "        buttonEl.style.display =\n",
              "          google.colab.kernel.accessAllowed ? 'block' : 'none';\n",
              "\n",
              "        async function convertToInteractive(key) {\n",
              "          const element = document.querySelector('#df-67717ac3-32ca-424a-b789-e5d85b95bbf9');\n",
              "          const dataTable =\n",
              "            await google.colab.kernel.invokeFunction('convertToInteractive',\n",
              "                                                     [key], {});\n",
              "          if (!dataTable) return;\n",
              "\n",
              "          const docLinkHtml = 'Like what you see? Visit the ' +\n",
              "            '<a target=\"_blank\" href=https://colab.research.google.com/notebooks/data_table.ipynb>data table notebook</a>'\n",
              "            + ' to learn more about interactive tables.';\n",
              "          element.innerHTML = '';\n",
              "          dataTable['output_type'] = 'display_data';\n",
              "          await google.colab.output.renderOutput(dataTable, element);\n",
              "          const docLink = document.createElement('div');\n",
              "          docLink.innerHTML = docLinkHtml;\n",
              "          element.appendChild(docLink);\n",
              "        }\n",
              "      </script>\n",
              "    </div>\n",
              "  </div>\n",
              "  "
            ]
          },
          "metadata": {},
          "execution_count": 10
        }
      ]
    },
    {
      "cell_type": "code",
      "source": [
        "df = df[~df.tweets.str.contains(\"RT\")]"
      ],
      "metadata": {
        "id": "SrEz-95NLKdy"
      },
      "execution_count": null,
      "outputs": []
    },
    {
      "cell_type": "code",
      "source": [
        "df = df.reset_index(drop = True)"
      ],
      "metadata": {
        "id": "1QRnLvJ9L-UU"
      },
      "execution_count": null,
      "outputs": []
    },
    {
      "cell_type": "code",
      "source": [
        "df"
      ],
      "metadata": {
        "colab": {
          "base_uri": "https://localhost:8080/",
          "height": 676
        },
        "id": "8wfcwujqL-Wp",
        "outputId": "99d0ddad-cc3f-4637-ce71-f4604cda804c"
      },
      "execution_count": null,
      "outputs": [
        {
          "output_type": "execute_result",
          "data": {
            "text/plain": [
              "                                               tweets   likes  \\\n",
              "0                              @sweatystartup Exactly    6153   \n",
              "1   Convert Twitter SF HQ to homeless shelter sinc...   57528   \n",
              "2   @PPathole Price should probably be ~$2/month, ...    4202   \n",
              "3   And no ads. The power of corporations to dicta...   44556   \n",
              "4   @PPathole It should go away or scammers will g...    5818   \n",
              "5   But should be different from “public figure” o...   29682   \n",
              "6   @GonzaAbalos Maybe even an option to pay in Doge?   18057   \n",
              "7   @GonzaAbalos Yes, should be proportionate to a...   18391   \n",
              "8   Blue already has a modifiable 20 second time t...   41327   \n",
              "9   @BLKMDL3 Exactly. It would massively expand th...   17349   \n",
              "10  Everyone who signs up for Twitter Blue (ie pay...  143292   \n",
              "11  @michaeljburry You will get it back, even thou...   42104   \n",
              "12               Weather is fake. I seen Truman Show!   50157   \n",
              "13  @teslaownersSV The resemblance is uncanny http...    7040   \n",
              "14  @LPofMN As the saying goes, when the governmen...   26698   \n",
              "15  @siddarthpaim Fake news purveyors would have h...    5275   \n",
              "16  @universal_sci All of Earth is a tiny dust mot...   20516   \n",
              "17                          @UKSAguy @RubinReport Yes    1394   \n",
              "18                      @JohnnaCrider1 .@Beeple is 🔥🔥    6549   \n",
              "19                    69.420% of statistics are false  353118   \n",
              "\n",
              "                  time  \n",
              "0  2022-04-10 02:02:31  \n",
              "1  2022-04-10 01:30:10  \n",
              "2  2022-04-10 01:21:42  \n",
              "3  2022-04-10 01:14:12  \n",
              "4  2022-04-10 00:58:28  \n",
              "5  2022-04-10 00:56:10  \n",
              "6  2022-04-10 00:45:10  \n",
              "7  2022-04-10 00:31:07  \n",
              "8  2022-04-10 00:24:07  \n",
              "9  2022-04-10 00:22:08  \n",
              "10 2022-04-10 00:10:52  \n",
              "11 2022-04-10 00:08:19  \n",
              "12 2022-04-10 00:03:19  \n",
              "13 2022-04-09 21:57:10  \n",
              "14 2022-04-09 21:08:21  \n",
              "15 2022-04-09 20:51:01  \n",
              "16 2022-04-09 20:48:07  \n",
              "17 2022-04-09 20:39:03  \n",
              "18 2022-04-09 20:18:17  \n",
              "19 2022-04-09 20:14:20  "
            ],
            "text/html": [
              "\n",
              "  <div id=\"df-2b82ed8c-9bb3-4f05-82fc-48c86c1e3cc2\">\n",
              "    <div class=\"colab-df-container\">\n",
              "      <div>\n",
              "<style scoped>\n",
              "    .dataframe tbody tr th:only-of-type {\n",
              "        vertical-align: middle;\n",
              "    }\n",
              "\n",
              "    .dataframe tbody tr th {\n",
              "        vertical-align: top;\n",
              "    }\n",
              "\n",
              "    .dataframe thead th {\n",
              "        text-align: right;\n",
              "    }\n",
              "</style>\n",
              "<table border=\"1\" class=\"dataframe\">\n",
              "  <thead>\n",
              "    <tr style=\"text-align: right;\">\n",
              "      <th></th>\n",
              "      <th>tweets</th>\n",
              "      <th>likes</th>\n",
              "      <th>time</th>\n",
              "    </tr>\n",
              "  </thead>\n",
              "  <tbody>\n",
              "    <tr>\n",
              "      <th>0</th>\n",
              "      <td>@sweatystartup Exactly</td>\n",
              "      <td>6153</td>\n",
              "      <td>2022-04-10 02:02:31</td>\n",
              "    </tr>\n",
              "    <tr>\n",
              "      <th>1</th>\n",
              "      <td>Convert Twitter SF HQ to homeless shelter sinc...</td>\n",
              "      <td>57528</td>\n",
              "      <td>2022-04-10 01:30:10</td>\n",
              "    </tr>\n",
              "    <tr>\n",
              "      <th>2</th>\n",
              "      <td>@PPathole Price should probably be ~$2/month, ...</td>\n",
              "      <td>4202</td>\n",
              "      <td>2022-04-10 01:21:42</td>\n",
              "    </tr>\n",
              "    <tr>\n",
              "      <th>3</th>\n",
              "      <td>And no ads. The power of corporations to dicta...</td>\n",
              "      <td>44556</td>\n",
              "      <td>2022-04-10 01:14:12</td>\n",
              "    </tr>\n",
              "    <tr>\n",
              "      <th>4</th>\n",
              "      <td>@PPathole It should go away or scammers will g...</td>\n",
              "      <td>5818</td>\n",
              "      <td>2022-04-10 00:58:28</td>\n",
              "    </tr>\n",
              "    <tr>\n",
              "      <th>5</th>\n",
              "      <td>But should be different from “public figure” o...</td>\n",
              "      <td>29682</td>\n",
              "      <td>2022-04-10 00:56:10</td>\n",
              "    </tr>\n",
              "    <tr>\n",
              "      <th>6</th>\n",
              "      <td>@GonzaAbalos Maybe even an option to pay in Doge?</td>\n",
              "      <td>18057</td>\n",
              "      <td>2022-04-10 00:45:10</td>\n",
              "    </tr>\n",
              "    <tr>\n",
              "      <th>7</th>\n",
              "      <td>@GonzaAbalos Yes, should be proportionate to a...</td>\n",
              "      <td>18391</td>\n",
              "      <td>2022-04-10 00:31:07</td>\n",
              "    </tr>\n",
              "    <tr>\n",
              "      <th>8</th>\n",
              "      <td>Blue already has a modifiable 20 second time t...</td>\n",
              "      <td>41327</td>\n",
              "      <td>2022-04-10 00:24:07</td>\n",
              "    </tr>\n",
              "    <tr>\n",
              "      <th>9</th>\n",
              "      <td>@BLKMDL3 Exactly. It would massively expand th...</td>\n",
              "      <td>17349</td>\n",
              "      <td>2022-04-10 00:22:08</td>\n",
              "    </tr>\n",
              "    <tr>\n",
              "      <th>10</th>\n",
              "      <td>Everyone who signs up for Twitter Blue (ie pay...</td>\n",
              "      <td>143292</td>\n",
              "      <td>2022-04-10 00:10:52</td>\n",
              "    </tr>\n",
              "    <tr>\n",
              "      <th>11</th>\n",
              "      <td>@michaeljburry You will get it back, even thou...</td>\n",
              "      <td>42104</td>\n",
              "      <td>2022-04-10 00:08:19</td>\n",
              "    </tr>\n",
              "    <tr>\n",
              "      <th>12</th>\n",
              "      <td>Weather is fake. I seen Truman Show!</td>\n",
              "      <td>50157</td>\n",
              "      <td>2022-04-10 00:03:19</td>\n",
              "    </tr>\n",
              "    <tr>\n",
              "      <th>13</th>\n",
              "      <td>@teslaownersSV The resemblance is uncanny http...</td>\n",
              "      <td>7040</td>\n",
              "      <td>2022-04-09 21:57:10</td>\n",
              "    </tr>\n",
              "    <tr>\n",
              "      <th>14</th>\n",
              "      <td>@LPofMN As the saying goes, when the governmen...</td>\n",
              "      <td>26698</td>\n",
              "      <td>2022-04-09 21:08:21</td>\n",
              "    </tr>\n",
              "    <tr>\n",
              "      <th>15</th>\n",
              "      <td>@siddarthpaim Fake news purveyors would have h...</td>\n",
              "      <td>5275</td>\n",
              "      <td>2022-04-09 20:51:01</td>\n",
              "    </tr>\n",
              "    <tr>\n",
              "      <th>16</th>\n",
              "      <td>@universal_sci All of Earth is a tiny dust mot...</td>\n",
              "      <td>20516</td>\n",
              "      <td>2022-04-09 20:48:07</td>\n",
              "    </tr>\n",
              "    <tr>\n",
              "      <th>17</th>\n",
              "      <td>@UKSAguy @RubinReport Yes</td>\n",
              "      <td>1394</td>\n",
              "      <td>2022-04-09 20:39:03</td>\n",
              "    </tr>\n",
              "    <tr>\n",
              "      <th>18</th>\n",
              "      <td>@JohnnaCrider1 .@Beeple is 🔥🔥</td>\n",
              "      <td>6549</td>\n",
              "      <td>2022-04-09 20:18:17</td>\n",
              "    </tr>\n",
              "    <tr>\n",
              "      <th>19</th>\n",
              "      <td>69.420% of statistics are false</td>\n",
              "      <td>353118</td>\n",
              "      <td>2022-04-09 20:14:20</td>\n",
              "    </tr>\n",
              "  </tbody>\n",
              "</table>\n",
              "</div>\n",
              "      <button class=\"colab-df-convert\" onclick=\"convertToInteractive('df-2b82ed8c-9bb3-4f05-82fc-48c86c1e3cc2')\"\n",
              "              title=\"Convert this dataframe to an interactive table.\"\n",
              "              style=\"display:none;\">\n",
              "        \n",
              "  <svg xmlns=\"http://www.w3.org/2000/svg\" height=\"24px\"viewBox=\"0 0 24 24\"\n",
              "       width=\"24px\">\n",
              "    <path d=\"M0 0h24v24H0V0z\" fill=\"none\"/>\n",
              "    <path d=\"M18.56 5.44l.94 2.06.94-2.06 2.06-.94-2.06-.94-.94-2.06-.94 2.06-2.06.94zm-11 1L8.5 8.5l.94-2.06 2.06-.94-2.06-.94L8.5 2.5l-.94 2.06-2.06.94zm10 10l.94 2.06.94-2.06 2.06-.94-2.06-.94-.94-2.06-.94 2.06-2.06.94z\"/><path d=\"M17.41 7.96l-1.37-1.37c-.4-.4-.92-.59-1.43-.59-.52 0-1.04.2-1.43.59L10.3 9.45l-7.72 7.72c-.78.78-.78 2.05 0 2.83L4 21.41c.39.39.9.59 1.41.59.51 0 1.02-.2 1.41-.59l7.78-7.78 2.81-2.81c.8-.78.8-2.07 0-2.86zM5.41 20L4 18.59l7.72-7.72 1.47 1.35L5.41 20z\"/>\n",
              "  </svg>\n",
              "      </button>\n",
              "      \n",
              "  <style>\n",
              "    .colab-df-container {\n",
              "      display:flex;\n",
              "      flex-wrap:wrap;\n",
              "      gap: 12px;\n",
              "    }\n",
              "\n",
              "    .colab-df-convert {\n",
              "      background-color: #E8F0FE;\n",
              "      border: none;\n",
              "      border-radius: 50%;\n",
              "      cursor: pointer;\n",
              "      display: none;\n",
              "      fill: #1967D2;\n",
              "      height: 32px;\n",
              "      padding: 0 0 0 0;\n",
              "      width: 32px;\n",
              "    }\n",
              "\n",
              "    .colab-df-convert:hover {\n",
              "      background-color: #E2EBFA;\n",
              "      box-shadow: 0px 1px 2px rgba(60, 64, 67, 0.3), 0px 1px 3px 1px rgba(60, 64, 67, 0.15);\n",
              "      fill: #174EA6;\n",
              "    }\n",
              "\n",
              "    [theme=dark] .colab-df-convert {\n",
              "      background-color: #3B4455;\n",
              "      fill: #D2E3FC;\n",
              "    }\n",
              "\n",
              "    [theme=dark] .colab-df-convert:hover {\n",
              "      background-color: #434B5C;\n",
              "      box-shadow: 0px 1px 3px 1px rgba(0, 0, 0, 0.15);\n",
              "      filter: drop-shadow(0px 1px 2px rgba(0, 0, 0, 0.3));\n",
              "      fill: #FFFFFF;\n",
              "    }\n",
              "  </style>\n",
              "\n",
              "      <script>\n",
              "        const buttonEl =\n",
              "          document.querySelector('#df-2b82ed8c-9bb3-4f05-82fc-48c86c1e3cc2 button.colab-df-convert');\n",
              "        buttonEl.style.display =\n",
              "          google.colab.kernel.accessAllowed ? 'block' : 'none';\n",
              "\n",
              "        async function convertToInteractive(key) {\n",
              "          const element = document.querySelector('#df-2b82ed8c-9bb3-4f05-82fc-48c86c1e3cc2');\n",
              "          const dataTable =\n",
              "            await google.colab.kernel.invokeFunction('convertToInteractive',\n",
              "                                                     [key], {});\n",
              "          if (!dataTable) return;\n",
              "\n",
              "          const docLinkHtml = 'Like what you see? Visit the ' +\n",
              "            '<a target=\"_blank\" href=https://colab.research.google.com/notebooks/data_table.ipynb>data table notebook</a>'\n",
              "            + ' to learn more about interactive tables.';\n",
              "          element.innerHTML = '';\n",
              "          dataTable['output_type'] = 'display_data';\n",
              "          await google.colab.output.renderOutput(dataTable, element);\n",
              "          const docLink = document.createElement('div');\n",
              "          docLink.innerHTML = docLinkHtml;\n",
              "          element.appendChild(docLink);\n",
              "        }\n",
              "      </script>\n",
              "    </div>\n",
              "  </div>\n",
              "  "
            ]
          },
          "metadata": {},
          "execution_count": 15
        }
      ]
    },
    {
      "cell_type": "code",
      "source": [
        "most_liked = df.loc[df.likes.nlargest(5).index]"
      ],
      "metadata": {
        "id": "dmnGDv05ct-y"
      },
      "execution_count": null,
      "outputs": []
    },
    {
      "cell_type": "code",
      "source": [
        "most_liked"
      ],
      "metadata": {
        "id": "p-4d4tz5cuBY",
        "colab": {
          "base_uri": "https://localhost:8080/",
          "height": 206
        },
        "outputId": "9bb87d89-7813-4458-fbb7-5f4e2621eb51"
      },
      "execution_count": null,
      "outputs": [
        {
          "output_type": "execute_result",
          "data": {
            "text/plain": [
              "                                               tweets   likes  \\\n",
              "19                    69.420% of statistics are false  353118   \n",
              "10  Everyone who signs up for Twitter Blue (ie pay...  143292   \n",
              "1   Convert Twitter SF HQ to homeless shelter sinc...   57528   \n",
              "12               Weather is fake. I seen Truman Show!   50157   \n",
              "3   And no ads. The power of corporations to dicta...   44556   \n",
              "\n",
              "                  time  \n",
              "19 2022-04-09 20:14:20  \n",
              "10 2022-04-10 00:10:52  \n",
              "1  2022-04-10 01:30:10  \n",
              "12 2022-04-10 00:03:19  \n",
              "3  2022-04-10 01:14:12  "
            ],
            "text/html": [
              "\n",
              "  <div id=\"df-2221c669-9890-4e2c-983c-877e907fda6a\">\n",
              "    <div class=\"colab-df-container\">\n",
              "      <div>\n",
              "<style scoped>\n",
              "    .dataframe tbody tr th:only-of-type {\n",
              "        vertical-align: middle;\n",
              "    }\n",
              "\n",
              "    .dataframe tbody tr th {\n",
              "        vertical-align: top;\n",
              "    }\n",
              "\n",
              "    .dataframe thead th {\n",
              "        text-align: right;\n",
              "    }\n",
              "</style>\n",
              "<table border=\"1\" class=\"dataframe\">\n",
              "  <thead>\n",
              "    <tr style=\"text-align: right;\">\n",
              "      <th></th>\n",
              "      <th>tweets</th>\n",
              "      <th>likes</th>\n",
              "      <th>time</th>\n",
              "    </tr>\n",
              "  </thead>\n",
              "  <tbody>\n",
              "    <tr>\n",
              "      <th>19</th>\n",
              "      <td>69.420% of statistics are false</td>\n",
              "      <td>353118</td>\n",
              "      <td>2022-04-09 20:14:20</td>\n",
              "    </tr>\n",
              "    <tr>\n",
              "      <th>10</th>\n",
              "      <td>Everyone who signs up for Twitter Blue (ie pay...</td>\n",
              "      <td>143292</td>\n",
              "      <td>2022-04-10 00:10:52</td>\n",
              "    </tr>\n",
              "    <tr>\n",
              "      <th>1</th>\n",
              "      <td>Convert Twitter SF HQ to homeless shelter sinc...</td>\n",
              "      <td>57528</td>\n",
              "      <td>2022-04-10 01:30:10</td>\n",
              "    </tr>\n",
              "    <tr>\n",
              "      <th>12</th>\n",
              "      <td>Weather is fake. I seen Truman Show!</td>\n",
              "      <td>50157</td>\n",
              "      <td>2022-04-10 00:03:19</td>\n",
              "    </tr>\n",
              "    <tr>\n",
              "      <th>3</th>\n",
              "      <td>And no ads. The power of corporations to dicta...</td>\n",
              "      <td>44556</td>\n",
              "      <td>2022-04-10 01:14:12</td>\n",
              "    </tr>\n",
              "  </tbody>\n",
              "</table>\n",
              "</div>\n",
              "      <button class=\"colab-df-convert\" onclick=\"convertToInteractive('df-2221c669-9890-4e2c-983c-877e907fda6a')\"\n",
              "              title=\"Convert this dataframe to an interactive table.\"\n",
              "              style=\"display:none;\">\n",
              "        \n",
              "  <svg xmlns=\"http://www.w3.org/2000/svg\" height=\"24px\"viewBox=\"0 0 24 24\"\n",
              "       width=\"24px\">\n",
              "    <path d=\"M0 0h24v24H0V0z\" fill=\"none\"/>\n",
              "    <path d=\"M18.56 5.44l.94 2.06.94-2.06 2.06-.94-2.06-.94-.94-2.06-.94 2.06-2.06.94zm-11 1L8.5 8.5l.94-2.06 2.06-.94-2.06-.94L8.5 2.5l-.94 2.06-2.06.94zm10 10l.94 2.06.94-2.06 2.06-.94-2.06-.94-.94-2.06-.94 2.06-2.06.94z\"/><path d=\"M17.41 7.96l-1.37-1.37c-.4-.4-.92-.59-1.43-.59-.52 0-1.04.2-1.43.59L10.3 9.45l-7.72 7.72c-.78.78-.78 2.05 0 2.83L4 21.41c.39.39.9.59 1.41.59.51 0 1.02-.2 1.41-.59l7.78-7.78 2.81-2.81c.8-.78.8-2.07 0-2.86zM5.41 20L4 18.59l7.72-7.72 1.47 1.35L5.41 20z\"/>\n",
              "  </svg>\n",
              "      </button>\n",
              "      \n",
              "  <style>\n",
              "    .colab-df-container {\n",
              "      display:flex;\n",
              "      flex-wrap:wrap;\n",
              "      gap: 12px;\n",
              "    }\n",
              "\n",
              "    .colab-df-convert {\n",
              "      background-color: #E8F0FE;\n",
              "      border: none;\n",
              "      border-radius: 50%;\n",
              "      cursor: pointer;\n",
              "      display: none;\n",
              "      fill: #1967D2;\n",
              "      height: 32px;\n",
              "      padding: 0 0 0 0;\n",
              "      width: 32px;\n",
              "    }\n",
              "\n",
              "    .colab-df-convert:hover {\n",
              "      background-color: #E2EBFA;\n",
              "      box-shadow: 0px 1px 2px rgba(60, 64, 67, 0.3), 0px 1px 3px 1px rgba(60, 64, 67, 0.15);\n",
              "      fill: #174EA6;\n",
              "    }\n",
              "\n",
              "    [theme=dark] .colab-df-convert {\n",
              "      background-color: #3B4455;\n",
              "      fill: #D2E3FC;\n",
              "    }\n",
              "\n",
              "    [theme=dark] .colab-df-convert:hover {\n",
              "      background-color: #434B5C;\n",
              "      box-shadow: 0px 1px 3px 1px rgba(0, 0, 0, 0.15);\n",
              "      filter: drop-shadow(0px 1px 2px rgba(0, 0, 0, 0.3));\n",
              "      fill: #FFFFFF;\n",
              "    }\n",
              "  </style>\n",
              "\n",
              "      <script>\n",
              "        const buttonEl =\n",
              "          document.querySelector('#df-2221c669-9890-4e2c-983c-877e907fda6a button.colab-df-convert');\n",
              "        buttonEl.style.display =\n",
              "          google.colab.kernel.accessAllowed ? 'block' : 'none';\n",
              "\n",
              "        async function convertToInteractive(key) {\n",
              "          const element = document.querySelector('#df-2221c669-9890-4e2c-983c-877e907fda6a');\n",
              "          const dataTable =\n",
              "            await google.colab.kernel.invokeFunction('convertToInteractive',\n",
              "                                                     [key], {});\n",
              "          if (!dataTable) return;\n",
              "\n",
              "          const docLinkHtml = 'Like what you see? Visit the ' +\n",
              "            '<a target=\"_blank\" href=https://colab.research.google.com/notebooks/data_table.ipynb>data table notebook</a>'\n",
              "            + ' to learn more about interactive tables.';\n",
              "          element.innerHTML = '';\n",
              "          dataTable['output_type'] = 'display_data';\n",
              "          await google.colab.output.renderOutput(dataTable, element);\n",
              "          const docLink = document.createElement('div');\n",
              "          docLink.innerHTML = docLinkHtml;\n",
              "          element.appendChild(docLink);\n",
              "        }\n",
              "      </script>\n",
              "    </div>\n",
              "  </div>\n",
              "  "
            ]
          },
          "metadata": {},
          "execution_count": 17
        }
      ]
    },
    {
      "cell_type": "code",
      "source": [
        "!pip install spacy\n"
      ],
      "metadata": {
        "colab": {
          "base_uri": "https://localhost:8080/"
        },
        "id": "jOh8KubZM3cK",
        "outputId": "df7159c3-0756-4622-d51f-a3369480af7f"
      },
      "execution_count": null,
      "outputs": [
        {
          "output_type": "stream",
          "name": "stdout",
          "text": [
            "Requirement already satisfied: spacy in /usr/local/lib/python3.7/dist-packages (2.2.4)\n",
            "Requirement already satisfied: tqdm<5.0.0,>=4.38.0 in /usr/local/lib/python3.7/dist-packages (from spacy) (4.63.0)\n",
            "Requirement already satisfied: requests<3.0.0,>=2.13.0 in /usr/local/lib/python3.7/dist-packages (from spacy) (2.23.0)\n",
            "Requirement already satisfied: thinc==7.4.0 in /usr/local/lib/python3.7/dist-packages (from spacy) (7.4.0)\n",
            "Requirement already satisfied: numpy>=1.15.0 in /usr/local/lib/python3.7/dist-packages (from spacy) (1.21.5)\n",
            "Requirement already satisfied: preshed<3.1.0,>=3.0.2 in /usr/local/lib/python3.7/dist-packages (from spacy) (3.0.6)\n",
            "Requirement already satisfied: murmurhash<1.1.0,>=0.28.0 in /usr/local/lib/python3.7/dist-packages (from spacy) (1.0.6)\n",
            "Requirement already satisfied: wasabi<1.1.0,>=0.4.0 in /usr/local/lib/python3.7/dist-packages (from spacy) (0.9.0)\n",
            "Requirement already satisfied: srsly<1.1.0,>=1.0.2 in /usr/local/lib/python3.7/dist-packages (from spacy) (1.0.5)\n",
            "Requirement already satisfied: catalogue<1.1.0,>=0.0.7 in /usr/local/lib/python3.7/dist-packages (from spacy) (1.0.0)\n",
            "Requirement already satisfied: blis<0.5.0,>=0.4.0 in /usr/local/lib/python3.7/dist-packages (from spacy) (0.4.1)\n",
            "Requirement already satisfied: plac<1.2.0,>=0.9.6 in /usr/local/lib/python3.7/dist-packages (from spacy) (1.1.3)\n",
            "Requirement already satisfied: cymem<2.1.0,>=2.0.2 in /usr/local/lib/python3.7/dist-packages (from spacy) (2.0.6)\n",
            "Requirement already satisfied: setuptools in /usr/local/lib/python3.7/dist-packages (from spacy) (57.4.0)\n",
            "Requirement already satisfied: importlib-metadata>=0.20 in /usr/local/lib/python3.7/dist-packages (from catalogue<1.1.0,>=0.0.7->spacy) (4.11.3)\n",
            "Requirement already satisfied: zipp>=0.5 in /usr/local/lib/python3.7/dist-packages (from importlib-metadata>=0.20->catalogue<1.1.0,>=0.0.7->spacy) (3.7.0)\n",
            "Requirement already satisfied: typing-extensions>=3.6.4 in /usr/local/lib/python3.7/dist-packages (from importlib-metadata>=0.20->catalogue<1.1.0,>=0.0.7->spacy) (3.10.0.2)\n",
            "Requirement already satisfied: urllib3!=1.25.0,!=1.25.1,<1.26,>=1.21.1 in /usr/local/lib/python3.7/dist-packages (from requests<3.0.0,>=2.13.0->spacy) (1.24.3)\n",
            "Requirement already satisfied: certifi>=2017.4.17 in /usr/local/lib/python3.7/dist-packages (from requests<3.0.0,>=2.13.0->spacy) (2021.10.8)\n",
            "Requirement already satisfied: idna<3,>=2.5 in /usr/local/lib/python3.7/dist-packages (from requests<3.0.0,>=2.13.0->spacy) (2.10)\n",
            "Requirement already satisfied: chardet<4,>=3.0.2 in /usr/local/lib/python3.7/dist-packages (from requests<3.0.0,>=2.13.0->spacy) (3.0.4)\n"
          ]
        }
      ]
    },
    {
      "cell_type": "code",
      "source": [
        "import matplotlib.pyplot as plt\n",
        "import re\n",
        "import spacy\n",
        "#nlp = spacy.load('en_core_web_lg')\n",
        "import seaborn as sns"
      ],
      "metadata": {
        "id": "jUqmg0UmMaLI"
      },
      "execution_count": null,
      "outputs": []
    },
    {
      "cell_type": "code",
      "source": [
        "list_of_sentence = [s for s in df.tweets]\n",
        "lines = []\n",
        "for s in list_of_sentence:\n",
        "  words = s.split()\n",
        "  for w in words:\n",
        "    lines.append(w)"
      ],
      "metadata": {
        "id": "w8JDmgv6MaNz"
      },
      "execution_count": null,
      "outputs": []
    },
    {
      "cell_type": "code",
      "source": [
        "lines = [re.sub(r'[^A-Za-z0-9]+','',x) for x in lines]\n",
        "lines1 = []\n",
        "for word in lines:\n",
        "  if word != '':\n",
        "    lines1.append(word)\n",
        "    "
      ],
      "metadata": {
        "id": "F0ez_2IeMaQk"
      },
      "execution_count": null,
      "outputs": []
    },
    {
      "cell_type": "code",
      "source": [
        "from nltk.stem.snowball import SnowballStemmer\n",
        "s_stemmer = SnowballStemmer(language = 'english')\n",
        "\n",
        "stem = []\n",
        "for word in lines1:\n",
        "  stem.append(s_stemmer.stem(word))\n",
        "  "
      ],
      "metadata": {
        "id": "smv12UQVMaTA"
      },
      "execution_count": null,
      "outputs": []
    },
    {
      "cell_type": "code",
      "source": [
        "nlp = spacy.load('en')\n",
        "stem1 = []\n",
        "for word in stem:\n",
        "  if word not in nlp.Defaults.stop_words:\n",
        "    stem1.append(word)"
      ],
      "metadata": {
        "id": "9Sc5Yy0KOTgL"
      },
      "execution_count": null,
      "outputs": []
    },
    {
      "cell_type": "code",
      "source": [
        "df1 = pd.DataFrame(stem1)\n",
        "df1 = df1[0].value_counts()"
      ],
      "metadata": {
        "id": "9tb8Gn7HNy8x"
      },
      "execution_count": null,
      "outputs": []
    },
    {
      "cell_type": "code",
      "source": [
        "df1 = df1[:20]\n",
        "plt.figure(figsize=(10,5))\n",
        "sns.barplot(df1.values,df1.index)\n",
        "plt.title(\"Top words\")\n",
        "plt.ylabel('word from tweet',fontsize=12)\n",
        "plt.xlabel('count of words',fontsize=12)"
      ],
      "metadata": {
        "colab": {
          "base_uri": "https://localhost:8080/",
          "height": 425
        },
        "id": "SgzktdjUOIb3",
        "outputId": "cacb6dfa-0cca-429f-9294-deaf74da9c44"
      },
      "execution_count": null,
      "outputs": [
        {
          "output_type": "stream",
          "name": "stderr",
          "text": [
            "/usr/local/lib/python3.7/dist-packages/seaborn/_decorators.py:43: FutureWarning: Pass the following variables as keyword args: x, y. From version 0.12, the only valid positional argument will be `data`, and passing other arguments without an explicit keyword will result in an error or misinterpretation.\n",
            "  FutureWarning\n"
          ]
        },
        {
          "output_type": "execute_result",
          "data": {
            "text/plain": [
              "Text(0.5, 0, 'count of words')"
            ]
          },
          "metadata": {},
          "execution_count": 33
        },
        {
          "output_type": "display_data",
          "data": {
            "text/plain": [
              "<Figure size 720x360 with 1 Axes>"
            ],
            "image/png": "[encoded data removed]"
          },
          "metadata": {
            "needs_background": "light"
          }
        }
      ]
    },
    {
      "cell_type": "code",
      "source": [],
      "metadata": {
        "id": "A7q2LXumNy_n"
      },
      "execution_count": null,
      "outputs": []
    }
  ]
}